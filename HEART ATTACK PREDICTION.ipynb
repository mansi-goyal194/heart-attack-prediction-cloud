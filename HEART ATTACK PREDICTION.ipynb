{
 "cells": [
  {
   "cell_type": "code",
   "execution_count": 1,
   "metadata": {},
   "outputs": [],
   "source": [
    "#import libraries\n",
    "import pandas as pd\n",
    "import numpy as np\n",
    "import matplotlib.pyplot as plt"
   ]
  },
  {
   "cell_type": "code",
   "execution_count": 2,
   "metadata": {},
   "outputs": [],
   "source": [
    "#import data\n",
    "df = pd.read_csv('cleveland.csv')"
   ]
  },
  {
   "cell_type": "code",
   "execution_count": 3,
   "metadata": {},
   "outputs": [],
   "source": [
    "#Adding columns\n",
    "df.columns = [\"age\", \"sex\", \"cp\", \"restbp\", \"chol\", \"fbs\", \"restecg\", \n",
    "           \"thalach\", \"exang\", \"oldpeak\", \"slope\", \"ca\", \"thal\", \"target\"]\n"
   ]
  },
  {
   "cell_type": "code",
   "execution_count": 4,
   "metadata": {},
   "outputs": [
    {
     "data": {
      "text/html": [
       "<div>\n",
       "<style scoped>\n",
       "    .dataframe tbody tr th:only-of-type {\n",
       "        vertical-align: middle;\n",
       "    }\n",
       "\n",
       "    .dataframe tbody tr th {\n",
       "        vertical-align: top;\n",
       "    }\n",
       "\n",
       "    .dataframe thead th {\n",
       "        text-align: right;\n",
       "    }\n",
       "</style>\n",
       "<table border=\"1\" class=\"dataframe\">\n",
       "  <thead>\n",
       "    <tr style=\"text-align: right;\">\n",
       "      <th></th>\n",
       "      <th>age</th>\n",
       "      <th>sex</th>\n",
       "      <th>cp</th>\n",
       "      <th>restbp</th>\n",
       "      <th>chol</th>\n",
       "      <th>fbs</th>\n",
       "      <th>restecg</th>\n",
       "      <th>thalach</th>\n",
       "      <th>exang</th>\n",
       "      <th>oldpeak</th>\n",
       "      <th>slope</th>\n",
       "      <th>ca</th>\n",
       "      <th>thal</th>\n",
       "      <th>target</th>\n",
       "    </tr>\n",
       "  </thead>\n",
       "  <tbody>\n",
       "    <tr>\n",
       "      <th>0</th>\n",
       "      <td>67</td>\n",
       "      <td>1</td>\n",
       "      <td>4</td>\n",
       "      <td>160</td>\n",
       "      <td>286</td>\n",
       "      <td>0</td>\n",
       "      <td>2</td>\n",
       "      <td>108</td>\n",
       "      <td>1</td>\n",
       "      <td>1.5</td>\n",
       "      <td>2</td>\n",
       "      <td>3.0</td>\n",
       "      <td>3.0</td>\n",
       "      <td>2</td>\n",
       "    </tr>\n",
       "    <tr>\n",
       "      <th>1</th>\n",
       "      <td>67</td>\n",
       "      <td>1</td>\n",
       "      <td>4</td>\n",
       "      <td>120</td>\n",
       "      <td>229</td>\n",
       "      <td>0</td>\n",
       "      <td>2</td>\n",
       "      <td>129</td>\n",
       "      <td>1</td>\n",
       "      <td>2.6</td>\n",
       "      <td>2</td>\n",
       "      <td>2.0</td>\n",
       "      <td>7.0</td>\n",
       "      <td>1</td>\n",
       "    </tr>\n",
       "    <tr>\n",
       "      <th>2</th>\n",
       "      <td>37</td>\n",
       "      <td>1</td>\n",
       "      <td>3</td>\n",
       "      <td>130</td>\n",
       "      <td>250</td>\n",
       "      <td>0</td>\n",
       "      <td>0</td>\n",
       "      <td>187</td>\n",
       "      <td>0</td>\n",
       "      <td>3.5</td>\n",
       "      <td>3</td>\n",
       "      <td>0.0</td>\n",
       "      <td>3.0</td>\n",
       "      <td>0</td>\n",
       "    </tr>\n",
       "    <tr>\n",
       "      <th>3</th>\n",
       "      <td>41</td>\n",
       "      <td>0</td>\n",
       "      <td>2</td>\n",
       "      <td>130</td>\n",
       "      <td>204</td>\n",
       "      <td>0</td>\n",
       "      <td>2</td>\n",
       "      <td>172</td>\n",
       "      <td>0</td>\n",
       "      <td>1.4</td>\n",
       "      <td>1</td>\n",
       "      <td>0.0</td>\n",
       "      <td>3.0</td>\n",
       "      <td>0</td>\n",
       "    </tr>\n",
       "    <tr>\n",
       "      <th>4</th>\n",
       "      <td>56</td>\n",
       "      <td>1</td>\n",
       "      <td>2</td>\n",
       "      <td>120</td>\n",
       "      <td>236</td>\n",
       "      <td>0</td>\n",
       "      <td>0</td>\n",
       "      <td>178</td>\n",
       "      <td>0</td>\n",
       "      <td>0.8</td>\n",
       "      <td>1</td>\n",
       "      <td>0.0</td>\n",
       "      <td>3.0</td>\n",
       "      <td>0</td>\n",
       "    </tr>\n",
       "  </tbody>\n",
       "</table>\n",
       "</div>"
      ],
      "text/plain": [
       "   age  sex  cp  restbp  chol  fbs  restecg  thalach  exang  oldpeak  slope  \\\n",
       "0   67    1   4     160   286    0        2      108      1      1.5      2   \n",
       "1   67    1   4     120   229    0        2      129      1      2.6      2   \n",
       "2   37    1   3     130   250    0        0      187      0      3.5      3   \n",
       "3   41    0   2     130   204    0        2      172      0      1.4      1   \n",
       "4   56    1   2     120   236    0        0      178      0      0.8      1   \n",
       "\n",
       "    ca  thal  target  \n",
       "0  3.0   3.0       2  \n",
       "1  2.0   7.0       1  \n",
       "2  0.0   3.0       0  \n",
       "3  0.0   3.0       0  \n",
       "4  0.0   3.0       0  "
      ]
     },
     "execution_count": 4,
     "metadata": {},
     "output_type": "execute_result"
    }
   ],
   "source": [
    "#Print top 5 rows\n",
    "df.head()"
   ]
  },
  {
   "cell_type": "code",
   "execution_count": 5,
   "metadata": {},
   "outputs": [
    {
     "name": "stdout",
     "output_type": "stream",
     "text": [
      "<class 'pandas.core.frame.DataFrame'>\n",
      "RangeIndex: 302 entries, 0 to 301\n",
      "Data columns (total 14 columns):\n",
      " #   Column   Non-Null Count  Dtype  \n",
      "---  ------   --------------  -----  \n",
      " 0   age      302 non-null    int64  \n",
      " 1   sex      302 non-null    int64  \n",
      " 2   cp       302 non-null    int64  \n",
      " 3   restbp   302 non-null    int64  \n",
      " 4   chol     302 non-null    int64  \n",
      " 5   fbs      302 non-null    int64  \n",
      " 6   restecg  302 non-null    int64  \n",
      " 7   thalach  302 non-null    int64  \n",
      " 8   exang    302 non-null    int64  \n",
      " 9   oldpeak  302 non-null    float64\n",
      " 10  slope    302 non-null    int64  \n",
      " 11  ca       298 non-null    float64\n",
      " 12  thal     300 non-null    float64\n",
      " 13  target   302 non-null    int64  \n",
      "dtypes: float64(3), int64(11)\n",
      "memory usage: 33.2 KB\n"
     ]
    }
   ],
   "source": [
    "#information of dataset\n",
    "df.info()"
   ]
  },
  {
   "cell_type": "code",
   "execution_count": 6,
   "metadata": {},
   "outputs": [
    {
     "data": {
      "text/html": [
       "<div>\n",
       "<style scoped>\n",
       "    .dataframe tbody tr th:only-of-type {\n",
       "        vertical-align: middle;\n",
       "    }\n",
       "\n",
       "    .dataframe tbody tr th {\n",
       "        vertical-align: top;\n",
       "    }\n",
       "\n",
       "    .dataframe thead th {\n",
       "        text-align: right;\n",
       "    }\n",
       "</style>\n",
       "<table border=\"1\" class=\"dataframe\">\n",
       "  <thead>\n",
       "    <tr style=\"text-align: right;\">\n",
       "      <th></th>\n",
       "      <th>age</th>\n",
       "      <th>sex</th>\n",
       "      <th>cp</th>\n",
       "      <th>restbp</th>\n",
       "      <th>chol</th>\n",
       "      <th>fbs</th>\n",
       "      <th>restecg</th>\n",
       "      <th>thalach</th>\n",
       "      <th>exang</th>\n",
       "      <th>oldpeak</th>\n",
       "      <th>slope</th>\n",
       "      <th>ca</th>\n",
       "      <th>thal</th>\n",
       "      <th>target</th>\n",
       "    </tr>\n",
       "  </thead>\n",
       "  <tbody>\n",
       "    <tr>\n",
       "      <th>count</th>\n",
       "      <td>302.000000</td>\n",
       "      <td>302.000000</td>\n",
       "      <td>302.000000</td>\n",
       "      <td>302.000000</td>\n",
       "      <td>302.000000</td>\n",
       "      <td>302.000000</td>\n",
       "      <td>302.000000</td>\n",
       "      <td>302.000000</td>\n",
       "      <td>302.000000</td>\n",
       "      <td>302.000000</td>\n",
       "      <td>302.000000</td>\n",
       "      <td>298.000000</td>\n",
       "      <td>300.000000</td>\n",
       "      <td>302.000000</td>\n",
       "    </tr>\n",
       "    <tr>\n",
       "      <th>mean</th>\n",
       "      <td>54.410596</td>\n",
       "      <td>0.678808</td>\n",
       "      <td>3.165563</td>\n",
       "      <td>131.645695</td>\n",
       "      <td>246.738411</td>\n",
       "      <td>0.145695</td>\n",
       "      <td>0.986755</td>\n",
       "      <td>149.605960</td>\n",
       "      <td>0.327815</td>\n",
       "      <td>1.035430</td>\n",
       "      <td>1.596026</td>\n",
       "      <td>0.674497</td>\n",
       "      <td>4.730000</td>\n",
       "      <td>0.940397</td>\n",
       "    </tr>\n",
       "    <tr>\n",
       "      <th>std</th>\n",
       "      <td>9.040163</td>\n",
       "      <td>0.467709</td>\n",
       "      <td>0.953612</td>\n",
       "      <td>17.612202</td>\n",
       "      <td>51.856829</td>\n",
       "      <td>0.353386</td>\n",
       "      <td>0.994916</td>\n",
       "      <td>22.912959</td>\n",
       "      <td>0.470196</td>\n",
       "      <td>1.160723</td>\n",
       "      <td>0.611939</td>\n",
       "      <td>0.938202</td>\n",
       "      <td>1.941563</td>\n",
       "      <td>1.229384</td>\n",
       "    </tr>\n",
       "    <tr>\n",
       "      <th>min</th>\n",
       "      <td>29.000000</td>\n",
       "      <td>0.000000</td>\n",
       "      <td>1.000000</td>\n",
       "      <td>94.000000</td>\n",
       "      <td>126.000000</td>\n",
       "      <td>0.000000</td>\n",
       "      <td>0.000000</td>\n",
       "      <td>71.000000</td>\n",
       "      <td>0.000000</td>\n",
       "      <td>0.000000</td>\n",
       "      <td>1.000000</td>\n",
       "      <td>0.000000</td>\n",
       "      <td>3.000000</td>\n",
       "      <td>0.000000</td>\n",
       "    </tr>\n",
       "    <tr>\n",
       "      <th>25%</th>\n",
       "      <td>48.000000</td>\n",
       "      <td>0.000000</td>\n",
       "      <td>3.000000</td>\n",
       "      <td>120.000000</td>\n",
       "      <td>211.000000</td>\n",
       "      <td>0.000000</td>\n",
       "      <td>0.000000</td>\n",
       "      <td>133.250000</td>\n",
       "      <td>0.000000</td>\n",
       "      <td>0.000000</td>\n",
       "      <td>1.000000</td>\n",
       "      <td>0.000000</td>\n",
       "      <td>3.000000</td>\n",
       "      <td>0.000000</td>\n",
       "    </tr>\n",
       "    <tr>\n",
       "      <th>50%</th>\n",
       "      <td>55.500000</td>\n",
       "      <td>1.000000</td>\n",
       "      <td>3.000000</td>\n",
       "      <td>130.000000</td>\n",
       "      <td>241.500000</td>\n",
       "      <td>0.000000</td>\n",
       "      <td>0.500000</td>\n",
       "      <td>153.000000</td>\n",
       "      <td>0.000000</td>\n",
       "      <td>0.800000</td>\n",
       "      <td>2.000000</td>\n",
       "      <td>0.000000</td>\n",
       "      <td>3.000000</td>\n",
       "      <td>0.000000</td>\n",
       "    </tr>\n",
       "    <tr>\n",
       "      <th>75%</th>\n",
       "      <td>61.000000</td>\n",
       "      <td>1.000000</td>\n",
       "      <td>4.000000</td>\n",
       "      <td>140.000000</td>\n",
       "      <td>275.000000</td>\n",
       "      <td>0.000000</td>\n",
       "      <td>2.000000</td>\n",
       "      <td>166.000000</td>\n",
       "      <td>1.000000</td>\n",
       "      <td>1.600000</td>\n",
       "      <td>2.000000</td>\n",
       "      <td>1.000000</td>\n",
       "      <td>7.000000</td>\n",
       "      <td>2.000000</td>\n",
       "    </tr>\n",
       "    <tr>\n",
       "      <th>max</th>\n",
       "      <td>77.000000</td>\n",
       "      <td>1.000000</td>\n",
       "      <td>4.000000</td>\n",
       "      <td>200.000000</td>\n",
       "      <td>564.000000</td>\n",
       "      <td>1.000000</td>\n",
       "      <td>2.000000</td>\n",
       "      <td>202.000000</td>\n",
       "      <td>1.000000</td>\n",
       "      <td>6.200000</td>\n",
       "      <td>3.000000</td>\n",
       "      <td>3.000000</td>\n",
       "      <td>7.000000</td>\n",
       "      <td>4.000000</td>\n",
       "    </tr>\n",
       "  </tbody>\n",
       "</table>\n",
       "</div>"
      ],
      "text/plain": [
       "              age         sex          cp      restbp        chol         fbs  \\\n",
       "count  302.000000  302.000000  302.000000  302.000000  302.000000  302.000000   \n",
       "mean    54.410596    0.678808    3.165563  131.645695  246.738411    0.145695   \n",
       "std      9.040163    0.467709    0.953612   17.612202   51.856829    0.353386   \n",
       "min     29.000000    0.000000    1.000000   94.000000  126.000000    0.000000   \n",
       "25%     48.000000    0.000000    3.000000  120.000000  211.000000    0.000000   \n",
       "50%     55.500000    1.000000    3.000000  130.000000  241.500000    0.000000   \n",
       "75%     61.000000    1.000000    4.000000  140.000000  275.000000    0.000000   \n",
       "max     77.000000    1.000000    4.000000  200.000000  564.000000    1.000000   \n",
       "\n",
       "          restecg     thalach       exang     oldpeak       slope          ca  \\\n",
       "count  302.000000  302.000000  302.000000  302.000000  302.000000  298.000000   \n",
       "mean     0.986755  149.605960    0.327815    1.035430    1.596026    0.674497   \n",
       "std      0.994916   22.912959    0.470196    1.160723    0.611939    0.938202   \n",
       "min      0.000000   71.000000    0.000000    0.000000    1.000000    0.000000   \n",
       "25%      0.000000  133.250000    0.000000    0.000000    1.000000    0.000000   \n",
       "50%      0.500000  153.000000    0.000000    0.800000    2.000000    0.000000   \n",
       "75%      2.000000  166.000000    1.000000    1.600000    2.000000    1.000000   \n",
       "max      2.000000  202.000000    1.000000    6.200000    3.000000    3.000000   \n",
       "\n",
       "             thal      target  \n",
       "count  300.000000  302.000000  \n",
       "mean     4.730000    0.940397  \n",
       "std      1.941563    1.229384  \n",
       "min      3.000000    0.000000  \n",
       "25%      3.000000    0.000000  \n",
       "50%      3.000000    0.000000  \n",
       "75%      7.000000    2.000000  \n",
       "max      7.000000    4.000000  "
      ]
     },
     "execution_count": 6,
     "metadata": {},
     "output_type": "execute_result"
    }
   ],
   "source": [
    "#Description of dataset\n",
    "description = df.describe()\n",
    "description"
   ]
  },
  {
   "cell_type": "code",
   "execution_count": 7,
   "metadata": {},
   "outputs": [
    {
     "data": {
      "text/plain": [
       "age        0\n",
       "sex        0\n",
       "cp         0\n",
       "restbp     0\n",
       "chol       0\n",
       "fbs        0\n",
       "restecg    0\n",
       "thalach    0\n",
       "exang      0\n",
       "oldpeak    0\n",
       "slope      0\n",
       "ca         4\n",
       "thal       2\n",
       "target     0\n",
       "dtype: int64"
      ]
     },
     "execution_count": 7,
     "metadata": {},
     "output_type": "execute_result"
    }
   ],
   "source": [
    "#Calculating null values\n",
    "df.isnull().sum()"
   ]
  },
  {
   "cell_type": "code",
   "execution_count": 8,
   "metadata": {},
   "outputs": [
    {
     "name": "stderr",
     "output_type": "stream",
     "text": [
      "C:\\Users\\hp\\anaconda3\\lib\\site-packages\\numpy\\lib\\histograms.py:839: RuntimeWarning: invalid value encountered in greater_equal\n",
      "  keep = (tmp_a >= first_edge)\n",
      "C:\\Users\\hp\\anaconda3\\lib\\site-packages\\numpy\\lib\\histograms.py:840: RuntimeWarning: invalid value encountered in less_equal\n",
      "  keep &= (tmp_a <= last_edge)\n"
     ]
    },
    {
     "data": {
      "text/plain": [
       "(0.0, 1.0, 0.0, 1.0)"
      ]
     },
     "execution_count": 8,
     "metadata": {},
     "output_type": "execute_result"
    },
    {
     "data": {
      "image/png": "[encoded data removed]",
      "text/plain": [
       "<Figure size 1440x2880 with 15 Axes>"
      ]
     },
     "metadata": {
      "needs_background": "light"
     },
     "output_type": "display_data"
    }
   ],
   "source": [
    "#data visualisation\n",
    "fig, axes = plt.subplots( nrows=5, ncols=3, figsize=(20,40) )\n",
    "plt.subplots_adjust( wspace=0.20, hspace=0.20,top = 0.97 )\n",
    "plt.suptitle(\"Heart Disease Data\", fontsize=20)\n",
    "\n",
    "axes[0,0].hist(df.age,color='yellow',edgecolor='black')\n",
    "axes[0,0].set_xlabel(\"Age (years)\")\n",
    "axes[0,0].set_ylabel(\"Number of Patients\")\n",
    "\n",
    "axes[0,1].hist(df.sex,edgecolor='black')\n",
    "axes[0,1].set_xlabel(\"Sex (0=female,1=male)\")\n",
    "axes[0,1].set_ylabel(\"Number of Patients\")\n",
    "\n",
    "axes[0,2].hist(df.cp,bins=4,range=(0.5,4.5),rwidth=0.80,color='yellow',edgecolor='black')\n",
    "axes[0,2].set_xlim(0.0,5.0)\n",
    "axes[0,2].set_xlabel(\"Type of Chest Pain [cp]\")\n",
    "axes[0,2].set_ylabel(\"Number of Patients\")\n",
    "\n",
    "axes[1,0].hist(df.restbp,edgecolor='black')\n",
    "axes[1,0].set_xlabel(\"Resting Blood Pressure [restbp]\")\n",
    "axes[1,0].set_ylabel(\"Number of Patients\")\n",
    "\n",
    "axes[1,1].hist(df.chol,color='yellow',edgecolor='black')\n",
    "axes[1,1].set_xlabel(\"Serum Cholesterol [chol]\")\n",
    "axes[1,1].set_ylabel(\"Number of Patients\")\n",
    "\n",
    "axes[1,2].hist(df.fbs,edgecolor='black')\n",
    "axes[1,2].set_xlabel(\"Fasting Blood Sugar [fbs]\")\n",
    "axes[1,2].set_ylabel(\"Number of Patients\")\n",
    "\n",
    "axes[2,0].hist(df.restecg,color='yellow',edgecolor='black')\n",
    "axes[2,0].set_xlabel(\"Resting Electrocardiography [restecg]\")\n",
    "axes[2,0].set_ylabel(\"Number of Patients\")\n",
    "\n",
    "axes[2,1].hist(df.thalach,edgecolor='black')\n",
    "axes[2,1].set_xlabel(\"Maximum Heart Rate Achieved [thalach]\")\n",
    "axes[2,1].set_ylabel(\"Number of Patients\")\n",
    "\n",
    "axes[2,2].hist(df.exang,color='yellow',edgecolor='black')\n",
    "axes[2,2].set_xlabel(\"Exercise Induced Angina [exang]\")\n",
    "axes[2,2].set_ylabel(\"Number of Patients\")\n",
    "\n",
    "axes[3,0].hist(df.oldpeak,edgecolor='black')\n",
    "axes[3,0].set_xlabel(\"Exercise Induced ST Depression [oldpeak]\")\n",
    "axes[3,0].set_ylabel(\"Number of Patients\")\n",
    "\n",
    "axes[3,1].hist(df.slope,color='yellow',edgecolor='black')\n",
    "axes[3,1].set_xlabel(\"Slope of Peak Exercise ST Segment [slope]\")\n",
    "axes[3,1].set_ylabel(\"Number of Patients\")\n",
    "\n",
    "axes[3,2].hist(df.ca,bins=4,range=(-0.5,3.5),rwidth=0.8,edgecolor='black')\n",
    "axes[3,2].set_xlim(-0.7,3.7)\n",
    "axes[3,2].set_xlabel(\"Major Vessels colored by Fluoroscopy [ca]\")\n",
    "axes[3,2].set_ylabel(\"Number of Patients\")\n",
    "\n",
    "axes[4,0].hist(df.thal,color='yellow',edgecolor='black')\n",
    "axes[4,0].set_xlabel(\"Thal\")\n",
    "axes[4,0].set_ylabel(\"Number of Patients\")\n",
    "\n",
    "axes[4,1].hist(df.target,bins=5,range=(-0.5,4.5),rwidth=0.8,edgecolor='black')\n",
    "axes[4,1].set_xlim(-0.7,4.7)\n",
    "axes[4,1].set_xlabel(\"Heart Disease [target]\")\n",
    "axes[4,1].set_ylabel(\"Number of Patients\")\n",
    "\n",
    "axes[4,2].axis(\"off\")\n",
    "\n"
   ]
  },
  {
   "cell_type": "code",
   "execution_count": 9,
   "metadata": {},
   "outputs": [],
   "source": [
    "#mapping \n",
    "#those don't have risk of heart attack : 0\n",
    "#those have risk of heart attack : 1\n",
    "df['target'] = df.target.map({0: 0, 1: 1, 2: 1, 3: 1, 4: 1})\n"
   ]
  },
  {
   "cell_type": "code",
   "execution_count": 10,
   "metadata": {},
   "outputs": [],
   "source": [
    "#handling null value\n",
    "df['thal'] = df.thal.fillna(df.thal.mean())\n",
    "df['ca'] = df.ca.fillna(df.ca.mean())\n",
    "\n"
   ]
  },
  {
   "cell_type": "code",
   "execution_count": 11,
   "metadata": {},
   "outputs": [
    {
     "data": {
      "text/plain": [
       "age        0\n",
       "sex        0\n",
       "cp         0\n",
       "restbp     0\n",
       "chol       0\n",
       "fbs        0\n",
       "restecg    0\n",
       "thalach    0\n",
       "exang      0\n",
       "oldpeak    0\n",
       "slope      0\n",
       "ca         0\n",
       "thal       0\n",
       "target     0\n",
       "dtype: int64"
      ]
     },
     "execution_count": 11,
     "metadata": {},
     "output_type": "execute_result"
    }
   ],
   "source": [
    "df.isnull().sum()"
   ]
  },
  {
   "cell_type": "code",
   "execution_count": 12,
   "metadata": {},
   "outputs": [],
   "source": [
    "#seprating feature matrix and feature vector\n",
    "X = df.iloc[:, :-1].values\n",
    "y = df.iloc[:, -1].values\n"
   ]
  },
  {
   "cell_type": "markdown",
   "metadata": {},
   "source": [
    "# Dividing Data into Train set and Test set"
   ]
  },
  {
   "cell_type": "code",
   "execution_count": 13,
   "metadata": {},
   "outputs": [],
   "source": [
    "#Seprating train and test set\n",
    "from sklearn.model_selection import train_test_split\n",
    "X_train, X_test, y_train, y_test = train_test_split(X, y, test_size = 0.2, random_state = 0)"
   ]
  },
  {
   "cell_type": "code",
   "execution_count": 14,
   "metadata": {},
   "outputs": [],
   "source": [
    "#Standard scaling data\n",
    "from sklearn.preprocessing import StandardScaler as ss\n",
    "sc = ss()\n",
    "X_train = sc.fit_transform(X_train)\n",
    "X_test = sc.transform(X_test)\n",
    "\n"
   ]
  },
  {
   "cell_type": "markdown",
   "metadata": {},
   "source": [
    "# Building model"
   ]
  },
  {
   "cell_type": "code",
   "execution_count": 16,
   "metadata": {},
   "outputs": [
    {
     "name": "stdout",
     "output_type": "stream",
     "text": [
      "svm Score on Train Dataset is : 0.91701244813278\n",
      "svm Score on Test Dataset is : 0.8360655737704918\n",
      "F1- Score for svm\n",
      "0.8275862068965518\n",
      "\n",
      "Confusion matrix for test set \n",
      "[[27  6]\n",
      " [ 4 24]]\n"
     ]
    }
   ],
   "source": [
    "from sklearn.svm import SVC\n",
    "svm = SVC()\n",
    "\n",
    "svm.fit(X_train, y_train)\n",
    "\n",
    "svm_score_train = svm.score(X_train, y_train)\n",
    "print(\"svm Score on Train Dataset is :\",svm_score_train)\n",
    "\n",
    "svm_score_test =svm.score(X_test, y_test)\n",
    "print(\"svm Score on Test Dataset is :\",svm_score_test)\n",
    "\n",
    "#Predicting values using logistic regression\n",
    "y_pred_svm = svm.predict(X_test)\n",
    "\n",
    "from sklearn.metrics import f1_score\n",
    "print(\"F1- Score for svm\")\n",
    "f1_score_svm = f1_score(y_test, y_pred_svm)\n",
    "print(f1_score_svm)\n",
    "\n",
    "\n",
    "print()\n",
    "from sklearn.metrics import confusion_matrix\n",
    "print(\"Confusion matrix for test set \")\n",
    "print(confusion_matrix(y_test,y_pred_svm))\n",
    "\n"
   ]
  },
  {
   "cell_type": "code",
   "execution_count": 28,
   "metadata": {},
   "outputs": [
    {
     "name": "stdout",
     "output_type": "stream",
     "text": [
      "Naive bayes Score on Train Dataset is : 0.8547717842323651\n",
      "Naive bayes Score on Test Dataset is : 0.8524590163934426\n",
      "F1- Score for nb\n",
      "0.8421052631578947\n",
      "\n",
      "Confusion matrix for test set \n",
      "[[28  5]\n",
      " [ 4 24]]\n"
     ]
    }
   ],
   "source": [
    "#Naive Bayes\n",
    "\n",
    "#Naive Bayes Algorithm\n",
    "from sklearn.naive_bayes import GaussianNB\n",
    "nb = GaussianNB()\n",
    "\n",
    "nb.fit(X_train, y_train)\n",
    "\n",
    "nb_score_train = nb.score(X_train, y_train)\n",
    "print(\"Naive bayes Score on Train Dataset is :\",nb_score_train)\n",
    "\n",
    "nb_score_test = nb.score(X_test, y_test)\n",
    "print(\"Naive bayes Score on Test Dataset is :\",nb_score_test)\n",
    "\n",
    "#Predicting values using naive bayes\n",
    "y_pred_nb = nb.predict(X_test)\n",
    "\n",
    "\n",
    "print(\"F1- Score for nb\")\n",
    "f1_score_nb = f1_score(y_test, y_pred_nb)\n",
    "print(f1_score_nb)\n",
    "\n",
    "print()\n",
    "from sklearn.metrics import confusion_matrix\n",
    "print(\"Confusion matrix for test set \")\n",
    "print(confusion_matrix(y_test,y_pred_nb))\n"
   ]
  },
  {
   "cell_type": "code",
   "execution_count": 18,
   "metadata": {},
   "outputs": [
    {
     "name": "stdout",
     "output_type": "stream",
     "text": [
      "Logistic Regression Score on Train Dataset is : 0.8464730290456431\n",
      "Logistic Regression Score on Test Dataset is : 0.8852459016393442\n",
      "F1- Score for logistic regression\n",
      "0.8813559322033899\n",
      "\n",
      "Confusion matrix for test set \n",
      "[[28  5]\n",
      " [ 2 26]]\n"
     ]
    }
   ],
   "source": [
    "#Logistic Regression Algorithm\n",
    "from sklearn.linear_model import LogisticRegression\n",
    "log_reg = LogisticRegression()\n",
    "\n",
    "log_reg.fit(X_train, y_train)\n",
    "\n",
    "log_reg_score_train = log_reg.score(X_train, y_train)\n",
    "print(\"Logistic Regression Score on Train Dataset is :\",log_reg_score_train)\n",
    "\n",
    "log_reg_score_test = log_reg.score(X_test, y_test)\n",
    "print(\"Logistic Regression Score on Test Dataset is :\",log_reg_score_test)\n",
    "\n",
    "#Predicting values using logistic regression\n",
    "y_pred_log_reg = log_reg.predict(X_test)\n",
    "\n",
    "\n",
    "print(\"F1- Score for logistic regression\")\n",
    "f1_score_log_reg = f1_score(y_test, y_pred_log_reg)\n",
    "print(f1_score_log_reg)\n",
    "\n",
    "print()\n",
    "from sklearn.metrics import confusion_matrix\n",
    "print(\"Confusion matrix for test set \")\n",
    "print(confusion_matrix(y_test,y_pred_log_reg))"
   ]
  },
  {
   "cell_type": "code",
   "execution_count": 19,
   "metadata": {},
   "outputs": [
    {
     "name": "stdout",
     "output_type": "stream",
     "text": [
      "Decision Tree Score on Train Dataset is : 1.0\n",
      "Decision Tree Score on Test Dataset is : 0.7540983606557377\n",
      "F1- Score for dtf\n",
      "0.7540983606557378\n",
      "\n",
      "Confusion matrix for test set \n",
      "[[23 10]\n",
      " [ 5 23]]\n"
     ]
    }
   ],
   "source": [
    "#Decision Tree algorithm\n",
    "from sklearn.tree import DecisionTreeClassifier\n",
    "dtf = DecisionTreeClassifier()\n",
    "\n",
    "dtf.fit(X_train, y_train)\n",
    "\n",
    "dtf_score_train = dtf.score(X_train, y_train)\n",
    "print(\"Decision Tree Score on Train Dataset is :\",dtf_score_train)\n",
    "\n",
    "dtf_score_test = dtf.score(X_test, y_test)\n",
    "print(\"Decision Tree Score on Test Dataset is :\",dtf_score_test)\n",
    "\n",
    "\n",
    "\n",
    "#Predicting values using decision tree\n",
    "y_pred_dtf = dtf.predict(X_test)\n",
    "\n",
    "\n",
    "from sklearn.metrics import f1_score\n",
    "print(\"F1- Score for dtf\")\n",
    "f1_score_dtf = f1_score(y_test, y_pred_dtf)\n",
    "print(f1_score_dtf)\n",
    "\n",
    "print()\n",
    "from sklearn.metrics import confusion_matrix\n",
    "print(\"Confusion matrix for test set \")\n",
    "print(confusion_matrix(y_test,y_pred_dtf))"
   ]
  },
  {
   "cell_type": "code",
   "execution_count": 20,
   "metadata": {},
   "outputs": [
    {
     "name": "stdout",
     "output_type": "stream",
     "text": [
      "knn Score on Train Dataset is : 1.0\n",
      "knn Score on Test Dataset is : 0.7540983606557377\n"
     ]
    }
   ],
   "source": [
    "#K Nearest Neighbour\n",
    "#Taking K = 1\n",
    "\n",
    "from sklearn.neighbors import KNeighborsClassifier\n",
    "knn = KNeighborsClassifier(n_neighbors=1)\n",
    "\n",
    "knn.fit(X_train, y_train)\n",
    "\n",
    "knn_score_train_1 = knn.score(X_train, y_train)\n",
    "print(\"knn Score on Train Dataset is :\",knn_score_train_1)\n",
    "\n",
    "knn_score_test_1 = knn.score(X_test, y_test)\n",
    "print(\"knn Score on Test Dataset is :\",knn_score_test_1)\n",
    "\n",
    "\n"
   ]
  },
  {
   "cell_type": "code",
   "execution_count": 21,
   "metadata": {},
   "outputs": [
    {
     "name": "stdout",
     "output_type": "stream",
     "text": [
      "29\n"
     ]
    },
    {
     "data": {
      "text/plain": [
       "Text(0, 0.5, 'Error Rate')"
      ]
     },
     "execution_count": 21,
     "metadata": {},
     "output_type": "execute_result"
    },
    {
     "data": {
      "image/png": "[encoded data removed]",
      "text/plain": [
       "<Figure size 720x432 with 1 Axes>"
      ]
     },
     "metadata": {
      "needs_background": "light"
     },
     "output_type": "display_data"
    }
   ],
   "source": [
    "# Selecting best value of K\n",
    "error_rate = []\n",
    "\n",
    "    # Will take some time\n",
    "for i in range(1,40,2):\n",
    "\n",
    "    knn = KNeighborsClassifier(n_neighbors=i)\n",
    "    knn.fit(X_train,y_train)\n",
    "    pred_i = knn.predict(X_test)\n",
    "    error_rate.append(np.mean(pred_i != y_test))\n",
    "\n",
    "min_pos = error_rate.index(min(error_rate))+1\n",
    "k_min = 2*(min_pos)-1\n",
    "\n",
    "print(k_min)\n",
    "plt.figure(figsize=(10,6))    \n",
    "plt.plot(range(1,40,2),error_rate,color='blue', linestyle='dashed', marker='o',markerfacecolor='red', markersize=10)\n",
    "plt.title('Error Rate vs. K Value')\n",
    "plt.xlabel('K')\n",
    "plt.ylabel('Error Rate')"
   ]
  },
  {
   "cell_type": "code",
   "execution_count": 22,
   "metadata": {},
   "outputs": [
    {
     "name": "stdout",
     "output_type": "stream",
     "text": [
      "29\n"
     ]
    }
   ],
   "source": [
    "# Value of K having less error\n",
    "print(k_min)"
   ]
  },
  {
   "cell_type": "code",
   "execution_count": 23,
   "metadata": {},
   "outputs": [
    {
     "name": "stdout",
     "output_type": "stream",
     "text": [
      "knn Score on Train Dataset is : 0.8298755186721992\n",
      "knn Score on Test Dataset is : 0.8852459016393442\n",
      "F1- Score for knn\n",
      "0.8771929824561403\n",
      "\n",
      "Confusion matrix for test set \n",
      "[[29  4]\n",
      " [ 3 25]]\n"
     ]
    }
   ],
   "source": [
    "# Predicting result using K=29 having minimum error\n",
    "\n",
    "from sklearn.neighbors import KNeighborsClassifier\n",
    "knn = KNeighborsClassifier(n_neighbors=k_min)\n",
    "\n",
    "knn.fit(X_train, y_train)\n",
    "\n",
    "knn_score_train = knn.score(X_train, y_train)\n",
    "print(\"knn Score on Train Dataset is :\",knn_score_train)\n",
    "\n",
    "knn_score_test = knn.score(X_test, y_test)\n",
    "print(\"knn Score on Test Dataset is :\",knn_score_test)\n",
    "\n",
    "#Predicting values using logistic regression\n",
    "y_pred_knn = knn.predict(X_test)\n",
    "\n",
    "print(\"F1- Score for knn\")\n",
    "f1_score_knn = f1_score(y_test, y_pred_knn)\n",
    "print(f1_score_knn)\n",
    "\n",
    "\n",
    "print()\n",
    "from sklearn.metrics import confusion_matrix\n",
    "print(\"Confusion matrix for test set \")\n",
    "print(confusion_matrix(y_test,y_pred_knn))"
   ]
  },
  {
   "cell_type": "markdown",
   "metadata": {},
   "source": [
    "# Compare Accuracy"
   ]
  },
  {
   "cell_type": "code",
   "execution_count": 24,
   "metadata": {},
   "outputs": [
    {
     "data": {
      "image/png": "[encoded data removed]",
      "text/plain": [
       "<Figure size 432x288 with 1 Axes>"
      ]
     },
     "metadata": {
      "needs_background": "light"
     },
     "output_type": "display_data"
    }
   ],
   "source": [
    "#compare trainset accuracy\n",
    "def compare_trainset_accuracy():\n",
    "           \n",
    "            label = ['nb', 'dtf','log_reg','knn','svm']\n",
    "            accuracy = [nb_score_train, dtf_score_train,log_reg_score_train,knn_score_train,svm_score_train]\n",
    "            index = np.arange(len(label))\n",
    "            plt.bar(index, accuracy,color = 'yellow')\n",
    "            plt.xlabel('Algorithm', fontsize=15)\n",
    "            plt.ylabel('Accuracy', fontsize=15)\n",
    "            plt.xticks(index, label, fontsize=15, rotation=30)\n",
    "            plt.title('Accuracy for Train set')\n",
    "            plt.show()\n",
    "compare_trainset_accuracy()\n"
   ]
  },
  {
   "cell_type": "code",
   "execution_count": 25,
   "metadata": {},
   "outputs": [
    {
     "data": {
      "image/png": "[encoded data removed]",
      "text/plain": [
       "<Figure size 432x288 with 1 Axes>"
      ]
     },
     "metadata": {
      "needs_background": "light"
     },
     "output_type": "display_data"
    }
   ],
   "source": [
    "def compare_testset_accuracy():\n",
    "            #fig = plt.figure()\n",
    "            #ax = fig.add_axes([0,0,1,1])\n",
    "            label = ['nb', 'dtf','log_reg','knn','svm']\n",
    "            accuracy = [nb_score_test, dtf_score_test,log_reg_score_test,knn_score_test,svm_score_test]\n",
    "            index = np.arange(len(label))\n",
    "            plt.bar(index, accuracy,color = 'Orange')\n",
    "            plt.xlabel('Algorithm', fontsize=15)\n",
    "            plt.ylabel('Accuracy', fontsize=15)\n",
    "            plt.xticks(index, label, fontsize=15, rotation=30)\n",
    "            plt.title('Accuracy for Test set')\n",
    "            plt.show()\n",
    "compare_testset_accuracy()"
   ]
  },
  {
   "cell_type": "code",
   "execution_count": 26,
   "metadata": {},
   "outputs": [
    {
     "data": {
      "image/png": "[encoded data removed]",
      "text/plain": [
       "<Figure size 864x432 with 1 Axes>"
      ]
     },
     "metadata": {
      "needs_background": "light"
     },
     "output_type": "display_data"
    }
   ],
   "source": [
    "#Comparing accuracy for train an test set for same algorithm\n",
    "def comparision_accuracy_train_and_test():\n",
    "   \n",
    "    # set width of bar \n",
    "    barWidth = 0.25\n",
    "    fig = plt.subplots(figsize =(12,6)) \n",
    "       \n",
    "       \n",
    "    # set height of bar \n",
    "    TRAIN= [nb_score_train, dtf_score_train,log_reg_score_train,knn_score_train,svm_score_train] \n",
    "    TEST = [nb_score_test, dtf_score_test,log_reg_score_test,knn_score_test,svm_score_test] \n",
    "    \n",
    "    \n",
    "       \n",
    "    # Set position of bar on X axis \n",
    "    br1 = np.arange(5) \n",
    "    br2 = [x + barWidth for x in br1] \n",
    "    \n",
    "    \n",
    "       \n",
    "    # Make the plot \n",
    "    plt.bar(br1, TRAIN, color ='r', width = barWidth, \n",
    "            edgecolor ='grey', label ='TRAIN') \n",
    "    plt.bar(br2, TEST, color ='g', width = barWidth, \n",
    "            edgecolor ='grey', label ='TEST') \n",
    "     \n",
    "    \n",
    "       \n",
    "    # Adding Xticks  \n",
    "    plt.xlabel('ALGO', fontweight ='bold') \n",
    "    plt.ylabel('ACCURACY', fontweight ='bold') \n",
    "    plt.xticks([r + barWidth for r in range(len(TRAIN))], \n",
    "               ['NB', 'DTF','log_reg','knn','svm']) \n",
    "    plt.title('Comparision of Accuracy for Train and Test set')\n",
    "    plt.legend()\n",
    "       \n",
    "    plt.show()\n",
    "comparision_accuracy_train_and_test()    \n"
   ]
  },
  {
   "cell_type": "code",
   "execution_count": 27,
   "metadata": {},
   "outputs": [
    {
     "data": {
      "image/png": "[encoded data removed]",
      "text/plain": [
       "<Figure size 432x288 with 1 Axes>"
      ]
     },
     "metadata": {
      "needs_background": "light"
     },
     "output_type": "display_data"
    }
   ],
   "source": [
    "\n",
    "#Comparing f1-score\n",
    "def compare_F1score():\n",
    "            #fig = plt.figure()\n",
    "            #ax = fig.add_axes([0,0,1,1])\n",
    "            label = ['nb', 'dtf','log_reg','knn','svm']\n",
    "            accuracy = [f1_score_nb, f1_score_dtf,f1_score_log_reg,f1_score_knn,f1_score_svm]\n",
    "            index = np.arange(len(label))\n",
    "            plt.bar(index, accuracy)\n",
    "            plt.xlabel('Algorithm', fontsize=15)\n",
    "            plt.ylabel('F1 Score', fontsize=15)\n",
    "            plt.xticks(index, label, fontsize=15, rotation=30)\n",
    "            plt.title('F1 Score fo Algorithm')\n",
    "            plt.show()\n",
    "compare_F1score()"
   ]
  },
  {
   "cell_type": "code",
   "execution_count": null,
   "metadata": {},
   "outputs": [],
   "source": []
  },
  {
   "cell_type": "code",
   "execution_count": null,
   "metadata": {},
   "outputs": [],
   "source": []
  },
  {
   "cell_type": "code",
   "execution_count": null,
   "metadata": {},
   "outputs": [],
   "source": []
  },
  {
   "cell_type": "code",
   "execution_count": null,
   "metadata": {},
   "outputs": [],
   "source": []
  },
  {
   "cell_type": "code",
   "execution_count": null,
   "metadata": {},
   "outputs": [],
   "source": []
  }
 ],
 "metadata": {
  "kernelspec": {
   "display_name": "Python 3",
   "language": "python",
   "name": "python3"
  },
  "language_info": {
   "codemirror_mode": {
    "name": "ipython",
    "version": 3
   },
   "file_extension": ".py",
   "mimetype": "text/x-python",
   "name": "python",
   "nbconvert_exporter": "python",
   "pygments_lexer": "ipython3",
   "version": "3.7.6"
  }
 },
 "nbformat": 4,
 "nbformat_minor": 4
}
